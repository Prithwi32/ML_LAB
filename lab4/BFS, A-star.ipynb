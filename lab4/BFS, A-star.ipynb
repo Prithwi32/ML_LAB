{
 "cells": [
  {
   "cell_type": "code",
   "execution_count": 8,
   "id": "fee7555d-adce-458f-a54d-e109609c5b24",
   "metadata": {},
   "outputs": [
    {
     "name": "stdin",
     "output_type": "stream",
     "text": [
      "Enter number of nodes:  3\n",
      "Enter node name:  A\n",
      "Enter number of neighbors of A:  2\n",
      "Enter neighbor node:  B\n",
      "Enter cost to B:  5\n",
      "Enter neighbor node:  C\n",
      "Enter cost to C:  2\n",
      "Enter node name:  B\n",
      "Enter number of neighbors of B:  1\n",
      "Enter neighbor node:  C\n",
      "Enter cost to C:  1\n",
      "Enter node name:  C\n",
      "Enter number of neighbors of C:  0\n"
     ]
    },
    {
     "name": "stdout",
     "output_type": "stream",
     "text": [
      "\n",
      "Enter heuristic values for each node:\n"
     ]
    },
    {
     "name": "stdin",
     "output_type": "stream",
     "text": [
      "Heuristic [A]:  10\n",
      "Heuristic [B]:  4\n",
      "Heuristic [C]:  0\n",
      "\n",
      "Enter start node:  A\n",
      "Enter goal node:  C\n"
     ]
    },
    {
     "name": "stdout",
     "output_type": "stream",
     "text": [
      "\n",
      "--- Result ---\n",
      "Minimum cost path from A to C is ['A', 'C']\n",
      "Heuristic cost: 0\n"
     ]
    }
   ],
   "source": [
    "# Best First Search (Greedy BFS)\n",
    "def best_first_search(graph, start, goal, heuristic):\n",
    "    open_list = [(heuristic[start], start)]\n",
    "    closed_list = set()\n",
    "    path = []\n",
    "\n",
    "    while open_list:\n",
    "        # Sort by heuristic value (lowest first)\n",
    "        open_list.sort(key=lambda x: x[0])\n",
    "        h_val, node = open_list.pop(0)\n",
    "        path.append(node)\n",
    "\n",
    "        if node == goal:\n",
    "            return h_val, path\n",
    "\n",
    "        closed_list.add(node)\n",
    "\n",
    "        for neighbour, cost in graph.get(node, []):\n",
    "            if neighbour not in closed_list:\n",
    "                open_list.append((heuristic[neighbour], neighbour))\n",
    "\n",
    "    return None\n",
    "\n",
    "\n",
    "def input_graph():\n",
    "    graph = {}\n",
    "    n = int(input(\"Enter number of nodes: \"))\n",
    "    for _ in range(n):\n",
    "        node = input(f\"Enter node name: \").strip()\n",
    "        graph[node] = []\n",
    "        edges = int(input(f\"Enter number of neighbors of {node}: \"))\n",
    "\n",
    "        for _ in range(edges):\n",
    "            neighbor = input(\"Enter neighbor node: \").strip()\n",
    "            cost = int(input(f\"Enter cost to {neighbor}: \"))\n",
    "            graph[node].append((neighbor, cost))\n",
    "\n",
    "    return graph\n",
    "\n",
    "\n",
    "def input_heuristic(graph):\n",
    "    heuristic = {}\n",
    "    print(\"\\nEnter heuristic values for each node:\")\n",
    "    for node in graph:\n",
    "        heuristic[node] = int(input(f\"Heuristic [{node}]: \"))\n",
    "    return heuristic\n",
    "\n",
    "\n",
    "# --- RUN ---\n",
    "if __name__ == \"__main__\":\n",
    "    graph = input_graph()\n",
    "    heuristic = input_heuristic(graph)\n",
    "    start = input(\"\\nEnter start node: \").strip()\n",
    "    goal = input(\"Enter goal node: \").strip()\n",
    "    result = best_first_search(graph, start, goal, heuristic)\n",
    "\n",
    "    print(\"\\n--- Result ---\")\n",
    "    if result:\n",
    "        print(f\"Minimum cost path from {start} to {goal} is {result[1]}\")\n",
    "        print(f\"Heuristic cost: {result[0]}\")\n",
    "    else:\n",
    "        print(f\"No path from {start} to {goal}\")\n"
   ]
  },
  {
   "cell_type": "code",
   "execution_count": 18,
   "id": "b16928ce-e8e0-49a1-81c7-5dce772dc7dd",
   "metadata": {},
   "outputs": [
    {
     "name": "stdin",
     "output_type": "stream",
     "text": [
      "Enter number of nodes:  3\n",
      "Enter node name:  A\n",
      "Enter number of neighbors for A:  2\n",
      "  Enter neighbor node:  B\n",
      "  Enter cost to B:  5\n",
      "  Enter neighbor node:  C\n",
      "  Enter cost to C:  2\n",
      "Enter node name:  B\n",
      "Enter number of neighbors for B:  1\n",
      "  Enter neighbor node:  C\n",
      "  Enter cost to C:  1\n",
      "Enter node name:  C\n",
      "Enter number of neighbors for C:  0\n"
     ]
    },
    {
     "name": "stdout",
     "output_type": "stream",
     "text": [
      "\n",
      "Enter heuristic values:\n"
     ]
    },
    {
     "name": "stdin",
     "output_type": "stream",
     "text": [
      "Heuristic [A]:  10\n",
      "Heuristic [B]:  4\n",
      "Heuristic [C]:  0\n",
      "\n",
      "Enter start node:  A\n",
      "Enter goal node:  C\n"
     ]
    },
    {
     "name": "stdout",
     "output_type": "stream",
     "text": [
      "Path found: ['A', 'C']\n"
     ]
    }
   ],
   "source": [
    "def get_neighbors(v, graph):\n",
    "    return graph.get(v, [])\n",
    "\n",
    "def h(n, heuristics):\n",
    "    return heuristics.get(n, float('inf'))\n",
    "\n",
    "def a_star_algo(start_node, stop_node, graph, heuristics):\n",
    "    open_set = set([start_node])\n",
    "    closed_set = set()\n",
    "    g = {start_node: 0}\n",
    "    parents = {start_node: None}\n",
    "\n",
    "    while open_set:\n",
    "        n = None\n",
    "        for v in open_set:\n",
    "            if n is None or g[v] + h(v, heuristics) < g[n] + h(n, heuristics):\n",
    "                n = v\n",
    "\n",
    "        if n is None:\n",
    "            print('Path does not exist!')\n",
    "            return None\n",
    "\n",
    "        if n == stop_node:\n",
    "            path = []\n",
    "            while n is not None:\n",
    "                path.append(n)\n",
    "                n = parents[n]\n",
    "            path.reverse()\n",
    "            print('Path found:', path)\n",
    "            return path\n",
    "\n",
    "        for m, weight in get_neighbors(n, graph):\n",
    "            if m not in open_set and m not in closed_set:\n",
    "                open_set.add(m)\n",
    "                parents[m] = n\n",
    "                g[m] = g[n] + weight\n",
    "            else:\n",
    "                if g.get(m, float('inf')) > g[n] + weight:\n",
    "                    g[m] = g[n] + weight\n",
    "                    parents[m] = n\n",
    "                    if m in closed_set:\n",
    "                        closed_set.remove(m)\n",
    "                        open_set.add(m)\n",
    "\n",
    "        open_set.remove(n)\n",
    "        closed_set.add(n)\n",
    "\n",
    "    print('Path does not exist!')\n",
    "    return None\n",
    "\n",
    "\n",
    "# --------------------------\n",
    "# Graph and Heuristic Input\n",
    "# --------------------------\n",
    "def input_graph():\n",
    "    graph = {}\n",
    "    num_nodes = int(input('Enter number of nodes: '))\n",
    "    for _ in range(num_nodes):\n",
    "        node = input(\"Enter node name: \").strip().upper()\n",
    "        graph[node] = []\n",
    "        num_neighbors = int(input(f\"Enter number of neighbors for {node}: \"))\n",
    "        for _ in range(num_neighbors):\n",
    "            neighbor = input(\"  Enter neighbor node: \").strip().upper()\n",
    "            cost = int(input(f\"  Enter cost to {neighbor}: \"))\n",
    "            graph[node].append((neighbor, cost))\n",
    "    return graph\n",
    "\n",
    "def input_heuristics(graph):\n",
    "    heuristics = {}\n",
    "    print(\"\\nEnter heuristic values:\")\n",
    "    for node in graph:\n",
    "        heuristics[node] = int(input(f\"Heuristic [{node}]: \"))\n",
    "    return heuristics\n",
    "\n",
    "\n",
    "# --------------------------\n",
    "# Main Driver Code\n",
    "# --------------------------\n",
    "if __name__ == \"__main__\":\n",
    "    graph = input_graph()\n",
    "    heuristics = input_heuristics(graph)\n",
    "    start = input(\"\\nEnter start node: \").strip().upper()\n",
    "    goal = input(\"Enter goal node: \").strip().upper()\n",
    "    result = a_star_algo(start, goal, graph, heuristics)\n"
   ]
  },
  {
   "cell_type": "code",
   "execution_count": null,
   "id": "bea56b1f-cce2-4d03-81b3-6b981af5adb5",
   "metadata": {},
   "outputs": [],
   "source": []
  }
 ],
 "metadata": {
  "kernelspec": {
   "display_name": "Python 3 (ipykernel)",
   "language": "python",
   "name": "python3"
  },
  "language_info": {
   "codemirror_mode": {
    "name": "ipython",
    "version": 3
   },
   "file_extension": ".py",
   "mimetype": "text/x-python",
   "name": "python",
   "nbconvert_exporter": "python",
   "pygments_lexer": "ipython3",
   "version": "3.12.4"
  }
 },
 "nbformat": 4,
 "nbformat_minor": 5
}
