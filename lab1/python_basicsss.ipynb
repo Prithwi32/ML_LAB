{
 "cells": [
  {
   "cell_type": "code",
   "execution_count": 1,
   "metadata": {},
   "outputs": [
    {
     "name": "stdout",
     "output_type": "stream",
     "text": [
      "Hello World\n"
     ]
    }
   ],
   "source": [
    "print(\"Hello World\")"
   ]
  },
  {
   "cell_type": "code",
   "execution_count": 3,
   "metadata": {},
   "outputs": [
    {
     "name": "stdout",
     "output_type": "stream",
     "text": [
      "5 is greater than 2\n"
     ]
    }
   ],
   "source": [
    "if 5>2:\n",
    "    print(\"5 is greater than 2\")"
   ]
  },
  {
   "cell_type": "code",
   "execution_count": 14,
   "metadata": {},
   "outputs": [
    {
     "name": "stdout",
     "output_type": "stream",
     "text": [
      "5 is greater than 2\n",
      "5 is greater than 2\n"
     ]
    }
   ],
   "source": [
    "if 5>2:\n",
    " print(\"5 is greater than 2\")\n",
    "if 5>2:\n",
    "     print(\"5 is greater than 2\")"
   ]
  },
  {
   "cell_type": "code",
   "execution_count": 1,
   "metadata": {
    "scrolled": true
   },
   "outputs": [
    {
     "ename": "IndentationError",
     "evalue": "unexpected indent (<ipython-input-1-b65a8a9e60dc>, line 3)",
     "output_type": "error",
     "traceback": [
      "\u001b[1;36m  File \u001b[1;32m\"<ipython-input-1-b65a8a9e60dc>\"\u001b[1;36m, line \u001b[1;32m3\u001b[0m\n\u001b[1;33m    print(\"5 is greater than 2\")\u001b[0m\n\u001b[1;37m    ^\u001b[0m\n\u001b[1;31mIndentationError\u001b[0m\u001b[1;31m:\u001b[0m unexpected indent\n"
     ]
    }
   ],
   "source": [
    "if 5>2:\n",
    " print(\"5 is greater than 2\")\n",
    "    print(\"5 is greater than 2\")"
   ]
  },
  {
   "cell_type": "code",
   "execution_count": 2,
   "metadata": {
    "scrolled": true
   },
   "outputs": [
    {
     "name": "stdout",
     "output_type": "stream",
     "text": [
      "Hello\n",
      "World\n"
     ]
    }
   ],
   "source": [
    "print(\"Hello\")\n",
    "\"\"\"\n",
    "hdlwepoqe\n",
    "\"\"\"\n",
    "print(\"World\")"
   ]
  },
  {
   "cell_type": "code",
   "execution_count": 26,
   "metadata": {},
   "outputs": [
    {
     "name": "stdout",
     "output_type": "stream",
     "text": [
      "5\n",
      "2\n"
     ]
    }
   ],
   "source": [
    "#swap 2 variables\n",
    "x=2\n",
    "y=5\n",
    "temp=x\n",
    "x=y\n",
    "y=temp\n",
    "print(x)\n",
    "print(y)"
   ]
  },
  {
   "cell_type": "code",
   "execution_count": 31,
   "metadata": {},
   "outputs": [
    {
     "name": "stdout",
     "output_type": "stream",
     "text": [
      "Enter x3\n",
      "3\n",
      "<class 'str'>\n",
      "<class 'int'>\n"
     ]
    }
   ],
   "source": [
    "x = input(\"Enter x\")\n",
    "print(x)\n",
    "print(type(x))\n",
    "x = int(x)\n",
    "print(type(x))"
   ]
  },
  {
   "cell_type": "code",
   "execution_count": 28,
   "metadata": {},
   "outputs": [
    {
     "data": {
      "text/plain": [
       "int"
      ]
     },
     "execution_count": 28,
     "metadata": {},
     "output_type": "execute_result"
    }
   ],
   "source": [
    "x=3\n",
    "type(x)"
   ]
  },
  {
   "cell_type": "code",
   "execution_count": 32,
   "metadata": {},
   "outputs": [
    {
     "name": "stdout",
     "output_type": "stream",
     "text": [
      "Orange\n",
      "Apple\n",
      "Teeth\n"
     ]
    }
   ],
   "source": [
    "x, y, z = \"Orange\",\"Apple\",\"Teeth\"\n",
    "print(x)\n",
    "print(y)\n",
    "print(z)"
   ]
  },
  {
   "cell_type": "code",
   "execution_count": 33,
   "metadata": {},
   "outputs": [
    {
     "name": "stdout",
     "output_type": "stream",
     "text": [
      "word1\n",
      "word2\n",
      "word3\n"
     ]
    }
   ],
   "source": [
    "fruits = [\"word1\", \"word2\", \"word3\"]\n",
    "x, y, z = fruits\n",
    "print(x)\n",
    "print(y)\n",
    "print(z)"
   ]
  },
  {
   "cell_type": "code",
   "execution_count": 35,
   "metadata": {},
   "outputs": [
    {
     "name": "stdout",
     "output_type": "stream",
     "text": [
      "awesome\n"
     ]
    }
   ],
   "source": [
    "x=\"awesome\"\n",
    "def myfunc():\n",
    "    print(x)\n",
    "    \n",
    "myfunc()"
   ]
  },
  {
   "cell_type": "code",
   "execution_count": 36,
   "metadata": {},
   "outputs": [
    {
     "name": "stdout",
     "output_type": "stream",
     "text": [
      "awesome\n",
      "Python is fantastic\n"
     ]
    }
   ],
   "source": [
    "x=\"awesome\"\n",
    "def myfunc():\n",
    "    global x\n",
    "    print(x)\n",
    "    x = \"fantastic\"\n",
    "    \n",
    "myfunc()\n",
    "\n",
    "print(\"Python is \" + x)\n"
   ]
  },
  {
   "cell_type": "code",
   "execution_count": 39,
   "metadata": {},
   "outputs": [
    {
     "name": "stdout",
     "output_type": "stream",
     "text": [
      "enter num1: 23\n",
      "enter num2: 2\n",
      "enter num3: 7\n",
      "23 num1 is greatest\n"
     ]
    }
   ],
   "source": [
    "num1 = input(\"enter num1: \")\n",
    "num2 = input(\"enter num2: \")\n",
    "num3 = input(\"enter num3: \")\n",
    "num1 = int(num1)\n",
    "num2 = int(num2)\n",
    "num3 = int(num3)\n",
    "if num1>num2:\n",
    "    if num1>num3:\n",
    "        print(num1, \"num1 is greatest\")\n",
    "    else:\n",
    "        print(num3, \"num3 is greatest\")\n",
    "else:\n",
    "    if num2>num3:\n",
    "        print(num2, \"num2 is greatest\")\n",
    "    else: \n",
    "        print(num3, \"num3 is greatest\")"
   ]
  },
  {
   "cell_type": "code",
   "execution_count": 47,
   "metadata": {},
   "outputs": [
    {
     "name": "stdout",
     "output_type": "stream",
     "text": [
      "Enter range form: 1\n",
      "Enter range to: 20\n",
      "2\n",
      "3\n",
      "5\n",
      "7\n",
      "11\n",
      "13\n",
      "17\n",
      "19\n"
     ]
    }
   ],
   "source": [
    "var1 = int(input(\"Enter range form: \"))\n",
    "var2 = int(input(\"Enter range to: \"))\n",
    "for i in range(var1, var2+1):\n",
    "    flag = 0\n",
    "    if(i>1):\n",
    "        for j in range(2, i):\n",
    "            if(i%j == 0):\n",
    "                flag = 1\n",
    "                break\n",
    "        if(flag == 0):\n",
    "            print(i)"
   ]
  },
  {
   "cell_type": "code",
   "execution_count": 49,
   "metadata": {},
   "outputs": [
    {
     "name": "stdout",
     "output_type": "stream",
     "text": [
      "Enter matrix1 elements: \n",
      "1\n",
      "2\n",
      "3\n",
      "4\n",
      "5\n",
      "6\n",
      "7\n",
      "8\n",
      "9\n",
      "Enter matrix2 elements: \n",
      "9\n",
      "8\n",
      "7\n",
      "6\n",
      "5\n",
      "4\n",
      "3\n",
      "2\n",
      "1\n",
      "Resulting Matrix after addition:\n",
      "10 10 10 \n",
      "10 10 10 \n",
      "10 10 10 \n"
     ]
    }
   ],
   "source": [
    "arr1 = [[0 for _ in range(3)] for _ in range(3)]\n",
    "arr2 = [[0 for _ in range(3)] for _ in range(3)]\n",
    "res = [[0 for _ in range(3)] for _ in range(3)]\n",
    "\n",
    "print(\"Enter matrix1 elements: \")\n",
    "for i in range(3):\n",
    "    for j in range(3):\n",
    "        arr1[i][j] = int(input())\n",
    "        \n",
    "print(\"Enter matrix2 elements: \")\n",
    "for i in range(3):\n",
    "    for j in range(3):\n",
    "        arr2[i][j] = int(input())      \n",
    "        \n",
    "for i in range(3):\n",
    "    for j in range(3):\n",
    "        res[i][j] = arr1[i][j] + arr2[i][j]\n",
    "        \n",
    "# Output the result\n",
    "print(\"Resulting Matrix after addition:\")\n",
    "for i in range(3):\n",
    "    for j in range(3):\n",
    "        print(res[i][j], end=\" \")\n",
    "    print()  # Newline after each row\n",
    "        \n",
    "        "
   ]
  },
  {
   "cell_type": "code",
   "execution_count": 60,
   "metadata": {},
   "outputs": [
    {
     "name": "stdout",
     "output_type": "stream",
     "text": [
      "Ananya\n",
      "6\n",
      "2\n",
      "Ana\n",
      "ANANYA\n",
      "ananya\n",
      "False\n",
      "True\n"
     ]
    }
   ],
   "source": [
    "str = \"Ananya\"\n",
    "print(str)\n",
    "print(len(str))\n",
    "print(str.index('a'))\n",
    "print(str[0:3])\n",
    "str1 = str.upper()\n",
    "print(str1)\n",
    "str2 = str.lower()\n",
    "print(str2)\n",
    "print(str.startswith('p'))\n",
    "print(str.endswith('a'))"
   ]
  },
  {
   "cell_type": "code",
   "execution_count": 64,
   "metadata": {},
   "outputs": [
    {
     "name": "stdout",
     "output_type": "stream",
     "text": [
      "[42, 'hello']\n",
      "[42, 'hello', 2, 'ello']\n",
      "[42, 'hello', 42, 'hello']\n",
      "[42]\n"
     ]
    }
   ],
   "source": [
    "list = [42, \"hello\"]\n",
    "print(list)\n",
    "list1 = [2, \"ello\"]\n",
    "print(list + list1)\n",
    "rep_list = list*2\n",
    "print(rep_list)\n",
    "print(list[0:1])\n"
   ]
  },
  {
   "cell_type": "code",
   "execution_count": 29,
   "metadata": {},
   "outputs": [
    {
     "name": "stdout",
     "output_type": "stream",
     "text": [
      "Displaying list:  ['Alice', 'Bob', 'Anu']\n",
      "Displaying list after insert:  ['Alice', 'Bob', 'Anu', 'New word']\n",
      "Displaying list after update:  ['Alice', 'updated', 'Anu', 'New word']\n",
      "Displaying list after delete:  ['Alice', 'updated', 'Anu']\n",
      "Displaying list after sorting:  ['Alice', 'Anu', 'updated']\n",
      "Anu found in the list\n"
     ]
    }
   ],
   "source": [
    "#LIST OPERATIONS\n",
    "def my_list_func():\n",
    "    student_list = [\"Alice\", \"Bob\", \"Anu\"]\n",
    "    \n",
    "    print(\"Displaying list: \", student_list)\n",
    "    \n",
    "    student_list.append(\"New word\")\n",
    "    print(\"Displaying list after insert: \", student_list)\n",
    "    \n",
    "    student_list[1] = \"updated\"\n",
    "    print(\"Displaying list after update: \", student_list)\n",
    "    \n",
    "    student_list.remove(\"New word\")\n",
    "    print(\"Displaying list after delete: \", student_list)\n",
    "    \n",
    "    student_list.sort()\n",
    "    print(\"Displaying list after sorting: \", student_list)\n",
    "    \n",
    "    search_word = \"Anu\"\n",
    "    if search_word in student_list:\n",
    "        print(f\"{search_word} found in the list\")\n",
    "    else:\n",
    "        print(f\"{search_word} not found in the list\")\n",
    "    \n",
    "my_list_func()"
   ]
  },
  {
   "cell_type": "code",
   "execution_count": 46,
   "metadata": {},
   "outputs": [
    {
     "name": "stdout",
     "output_type": "stream",
     "text": [
      "Displaying tuple:  (100, 30)\n",
      "Displaying list after insert:  (100, 30)\n",
      "Displaying list after update:  (100, 30)\n",
      "Displaying list after delete:  (100, 30)\n",
      "Displaying list after sorting:  [30, 100]\n",
      "Anu not found in the list\n"
     ]
    }
   ],
   "source": [
    "#TUPLE OPERATIONS : IMMUTABLE DATA\n",
    "def my_tuple_func():\n",
    "    student_tuple = (100, 30)\n",
    "    \n",
    "    print(\"Displaying tuple: \", student_tuple)\n",
    "    \n",
    "    # student_tuple.append(\"New word\")                      can't append into tuple\n",
    "    print(\"Displaying list after insert: \", student_tuple)\n",
    "    \n",
    "    # student_tuple[1] = \"updated\"                          can't update into tuple\n",
    "    print(\"Displaying list after update: \", student_tuple)\n",
    "    \n",
    "    # student_tuple.remove(\"New word\")                      can't remove into tuple\n",
    "    print(\"Displaying list after delete: \", student_tuple)\n",
    "    \n",
    "    # student_tuple.sort()\n",
    "    stud_list = list(student_tuple)\n",
    "    stud_list.sort()\n",
    "    print(\"Displaying list after sorting: \", stud_list)\n",
    "    \n",
    "    search_word = \"Anu\"\n",
    "    if search_word in student_tuple:\n",
    "        print(f\"{search_word} found in the list\")\n",
    "    else:\n",
    "        print(f\"{search_word} not found in the list\")\n",
    "    \n",
    "my_tuple_func()"
   ]
  },
  {
   "cell_type": "code",
   "execution_count": 58,
   "metadata": {},
   "outputs": [
    {
     "name": "stdout",
     "output_type": "stream",
     "text": [
      "Displaying set:  {'Maths', 'Biology', 'anu'}\n",
      "Displaying set after insert:  {'Maths', 'History', 'Biology', 'anu'}\n",
      "Displaying set after delete:  {'Maths', 'History', 'Biology'}\n",
      "Maths found in the list\n"
     ]
    }
   ],
   "source": [
    "#SET OPERATIONS\n",
    "def my_set_func():\n",
    "    stud_set = {\"Biology\", \"Maths\", \"anu\"}\n",
    "    \n",
    "    print(\"Displaying set: \", stud_set)\n",
    "    \n",
    "    stud_set.add(\"History\")\n",
    "    print(\"Displaying set after insert: \", stud_set)\n",
    "    \n",
    "    stud_set.discard(\"anu\")\n",
    "    print(\"Displaying set after delete: \", stud_set)\n",
    "    \n",
    "    search_word = \"Maths\"\n",
    "    if search_word in stud_set:\n",
    "        print(f\"{search_word} found in the list\")\n",
    "    else:\n",
    "        print(f\"{search_word} not found in the list\")\n",
    "    \n",
    "my_set_func()"
   ]
  },
  {
   "cell_type": "code",
   "execution_count": 77,
   "metadata": {},
   "outputs": [
    {
     "name": "stdout",
     "output_type": "stream",
     "text": [
      "Displaying dictionary:  {2: 'Greek', 1: 'Roman'}\n",
      "Accessing element:  Roman\n",
      "Displaying dictionary after update:  {2: 'Greek', 1: 'America'}\n",
      "Displaying dictionary after insert:  {2: 'Greek', 1: 'America', 3: 'India'}\n",
      "Displaying dictionary after delete:  {2: 'Greek', 3: 'India'}\n",
      "1 not found in dictionary.\n",
      "Displaying dictionary after sorting:  {2: 'Greek', 3: 'India'}\n"
     ]
    }
   ],
   "source": [
    "#DICTIONARY OPERATIONS\n",
    "def my_dict_func():\n",
    "    stud_dic = { 2:'Greek', 1:'Roman'}\n",
    "    \n",
    "    print(\"Displaying dictionary: \", stud_dic)\n",
    "    \n",
    "    print(\"Accessing element: \", stud_dic[1])\n",
    "    \n",
    "    stud_dic[1] = 'America'\n",
    "    print(\"Displaying dictionary after update: \", stud_dic)\n",
    "    \n",
    "    stud_dic[3] = 'India'\n",
    "    print(\"Displaying dictionary after insert: \", stud_dic)\n",
    "    \n",
    "    del stud_dic[1]\n",
    "    print(\"Displaying dictionary after delete: \", stud_dic)\n",
    "    \n",
    "    search_student = 1\n",
    "    if search_student in stud_dic:\n",
    "        print(f\"{search_student} found in dictionary.\")\n",
    "    else:\n",
    "        print(f\"{search_student} not found in dictionary.\")\n",
    "        \n",
    "    sorted_dic = dict(sorted(stud_dic.items()))\n",
    "    print(\"Displaying dictionary after sorting: \", sorted_dic)\n",
    "    \n",
    "my_dict_func()"
   ]
  },
  {
   "cell_type": "code",
   "execution_count": null,
   "metadata": {},
   "outputs": [],
   "source": []
  }
 ],
 "metadata": {
  "kernelspec": {
   "display_name": "Python 3",
   "language": "python",
   "name": "python3"
  },
  "language_info": {
   "codemirror_mode": {
    "name": "ipython",
    "version": 3
   },
   "file_extension": ".py",
   "mimetype": "text/x-python",
   "name": "python",
   "nbconvert_exporter": "python",
   "pygments_lexer": "ipython3",
   "version": "3.8.5"
  }
 },
 "nbformat": 4,
 "nbformat_minor": 4
}
