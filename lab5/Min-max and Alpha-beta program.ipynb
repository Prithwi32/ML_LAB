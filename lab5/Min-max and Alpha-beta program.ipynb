{
 "cells": [
  {
   "cell_type": "code",
   "execution_count": 7,
   "metadata": {},
   "outputs": [
    {
     "name": "stdout",
     "output_type": "stream",
     "text": [
      "Minmax value: 5\n"
     ]
    }
   ],
   "source": [
    "# Min-max Algorithm\n",
    "def minmax(depth, node_index, is_max, scores, height):\n",
    "    if depth == height:\n",
    "        return scores[node_index]\n",
    "    \n",
    "    if is_max:\n",
    "        return max(\n",
    "            minmax(depth + 1, node_index * 2, False, scores, height),\n",
    "            minmax(depth + 1, node_index * 2 + 1, False, scores, height)\n",
    "        )\n",
    "    else:\n",
    "        return min(\n",
    "            minmax(depth + 1, node_index * 2, True, scores, height),\n",
    "            minmax(depth + 1, node_index * 2 + 1, True, scores, height)\n",
    "        )\n",
    "\n",
    "# Inputs\n",
    "scores = [3, 5, 6, 9, 1, 2, 0, -1]\n",
    "height = 3\n",
    "\n",
    "# Output\n",
    "print(\"Minmax value:\", minmax(0, 0, True, scores, height))\n"
   ]
  },
  {
   "cell_type": "code",
   "execution_count": 14,
   "metadata": {},
   "outputs": [
    {
     "name": "stdout",
     "output_type": "stream",
     "text": [
      "Alpha-Beta value: 5\n"
     ]
    }
   ],
   "source": [
    "# Alpha-Beta Pruning\n",
    "def alpha_beta(depth, node_index, is_max, scores, alpha, beta, height):\n",
    "    if depth == height:\n",
    "        return scores[node_index]\n",
    "\n",
    "    if is_max:\n",
    "        best = float('-inf')\n",
    "        for i in range(2):\n",
    "            val = alpha_beta(depth + 1, node_index * 2 + i, False, scores, alpha, beta, height)\n",
    "            best = max(best, val)\n",
    "            alpha = max(alpha, best)\n",
    "\n",
    "            # Prune if beta cutoff\n",
    "            if beta <= alpha:\n",
    "                break\n",
    "        return best\n",
    "    else:\n",
    "        best = float('inf')\n",
    "        for i in range(2):\n",
    "            val = alpha_beta(depth + 1, node_index * 2 + i, True, scores, alpha, beta, height)\n",
    "            best = min(best, val)\n",
    "            beta = min(beta, best)\n",
    "\n",
    "            # Prune if alpha cutoff\n",
    "            if beta <= alpha:\n",
    "                break\n",
    "        return best\n",
    "\n",
    "# Inputs\n",
    "scores = [3, 5, 6, 9, 1, 2, 0, -1]\n",
    "height = 3\n",
    "\n",
    "# Output\n",
    "print(\"Alpha-Beta value:\", alpha_beta(0, 0, True, scores, float('-inf'), float('inf'), height))\n"
   ]
  },
  {
   "cell_type": "code",
   "execution_count": null,
   "metadata": {},
   "outputs": [],
   "source": []
  }
 ],
 "metadata": {
  "kernelspec": {
   "display_name": "Python 3",
   "language": "python",
   "name": "python3"
  },
  "language_info": {
   "codemirror_mode": {
    "name": "ipython",
    "version": 3
   },
   "file_extension": ".py",
   "mimetype": "text/x-python",
   "name": "python",
   "nbconvert_exporter": "python",
   "pygments_lexer": "ipython3",
   "version": "3.8.5"
  }
 },
 "nbformat": 4,
 "nbformat_minor": 4
}
