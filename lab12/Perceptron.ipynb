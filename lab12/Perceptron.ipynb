{
 "cells": [
  {
   "cell_type": "code",
   "execution_count": 25,
   "id": "afcb65ed-aef7-4836-8eb9-85734f3e4aba",
   "metadata": {},
   "outputs": [
    {
     "name": "stdout",
     "output_type": "stream",
     "text": [
      "Training Perception for AND function\n",
      "Input: <bound method Kernel.raw_input of <ipykernel.ipkernel.IPythonKernel object at 0x000001710892FDD0>> Output: 0\n",
      "Input: <bound method Kernel.raw_input of <ipykernel.ipkernel.IPythonKernel object at 0x000001710892FDD0>> Output: 0\n",
      "Input: <bound method Kernel.raw_input of <ipykernel.ipkernel.IPythonKernel object at 0x000001710892FDD0>> Output: 0\n",
      "Input: <bound method Kernel.raw_input of <ipykernel.ipkernel.IPythonKernel object at 0x000001710892FDD0>> Output: 0\n",
      "\n",
      " Training perceptron for OR function\n",
      "Input: [0 0] Output: 0\n",
      "Input: [0 1] Output: 0\n",
      "Input: [1 0] Output: 0\n",
      "Input: [1 1] Output: 0\n"
     ]
    }
   ],
   "source": [
    "import numpy as np\n",
    "class Perceptron:\n",
    "    def __init__(self, input_size, lr=0.1, epochs=10):\n",
    "        self.weights = np.zeros(input_size+1)\n",
    "        self.lr = lr\n",
    "        self.epochs = epochs\n",
    "\n",
    "    def activation_fn(self, X):\n",
    "        return 1 if X==0 else 0\n",
    "\n",
    "    def predict(self, X):\n",
    "        x_with_bias = np.insert(X, 0, 1)\n",
    "        weighted_sum = np.dot(self.weights, x_with_bias)\n",
    "        return self.activation_fn(weighted_sum)\n",
    "\n",
    "    def fit(self, X, y):\n",
    "        for _ in range(self.epochs):\n",
    "            for inputs, label in zip(X, y):\n",
    "                prediction = self.predict(inputs)\n",
    "                error = label-prediction\n",
    "                self.weights[1:] += self.lr * error * inputs\n",
    "                self.weights[0] += self.lr * error * 1\n",
    "\n",
    "X = np.array([[0,0], [0,1], [1,0], [1,1]])\n",
    "y_and = np.array([0, 0, 0, 1])\n",
    "y_or = np.array([0, 1, 1, 1])\n",
    "print(\"Training Perception for AND function\")\n",
    "perceptron_and = Perceptron(input_size=2)\n",
    "perceptron_and.fit(X, y_and)\n",
    "\n",
    "for inputs in X:\n",
    "    print(f\"Input: {input} Output: {perceptron_and.predict(inputs)}\")\n",
    "\n",
    "print(\"\\n Training perceptron for OR function\")\n",
    "perceptron_or = Perceptron(input_size =2)\n",
    "perceptron_or.fit(X, y_or)\n",
    "\n",
    "for inputs in X:\n",
    "    print(f\"Input: {inputs} Output: {perceptron_or.predict(inputs)}\")\n"
   ]
  },
  {
   "cell_type": "code",
   "execution_count": null,
   "id": "57a40d7f-2375-42ab-a10c-c98f0152aba8",
   "metadata": {},
   "outputs": [],
   "source": []
  }
 ],
 "metadata": {
  "kernelspec": {
   "display_name": "Python 3 (ipykernel)",
   "language": "python",
   "name": "python3"
  },
  "language_info": {
   "codemirror_mode": {
    "name": "ipython",
    "version": 3
   },
   "file_extension": ".py",
   "mimetype": "text/x-python",
   "name": "python",
   "nbconvert_exporter": "python",
   "pygments_lexer": "ipython3",
   "version": "3.12.7"
  }
 },
 "nbformat": 4,
 "nbformat_minor": 5
}
